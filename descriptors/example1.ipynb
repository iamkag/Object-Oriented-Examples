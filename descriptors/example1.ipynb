{
 "cells": [
  {
   "cell_type": "markdown",
   "metadata": {},
   "source": [
    "Suppose you have a polygon class that has a verices property that needs to be defined as a sequence of Point2D intstances. So here, not only do we want the vertices attribute of our polygon to be iterable of some kind, we also want the elements to all be instances of Point2D class.\n",
    "In turn we'll also want to make sure that coordinates for Point2D are non-negative integer values (as might be expected in computer screen coordinates)."
   ]
  },
  {
   "cell_type": "code",
   "execution_count": 24,
   "metadata": {},
   "outputs": [],
   "source": [
    "class Int:\n",
    "    def __init__(self, min_value = None, max_value = None):\n",
    "        self.min_value = min_value\n",
    "        self.max_value = max_value\n",
    "\n",
    "    def __set_name__(self, owner_class, name):\n",
    "        self.name = name\n",
    "    \n",
    "    def __set__(self, instance, value):\n",
    "        if not isinstance(value, int):\n",
    "            raise TypeError(f'{self.name} must be an integer')\n",
    "        if self.min_value is not None and value < self.min_value:\n",
    "            raise ValueError(f'{self.name} must be greater than or equal to {self.min_value}')\n",
    "        if self.max_value is not None and value > self.max_value:\n",
    "            raise ValueError(f'{self.name} must be less than or equal to {self.max_value}')\n",
    "        instance.__dict__[self.name] = value\n",
    "    \n",
    "    def __get__(self, instance, owner_class):\n",
    "        if instance is None:\n",
    "            return self\n",
    "        return instance.__dict__.get(self.name, None)\n"
   ]
  },
  {
   "cell_type": "code",
   "execution_count": 59,
   "metadata": {},
   "outputs": [],
   "source": [
    "class Point2D:\n",
    "    x = Int(min_value=0, max_value=100)\n",
    "    y = Int(min_value=0, max_value=100)\n",
    "\n",
    "    def __init__(self, x, y):\n",
    "        self.x = x\n",
    "        self.y = y\n",
    "    \n",
    "    def __repr__(self):\n",
    "        return f'Point2D(x={self.x}, y={self.y})'\n",
    "    \n",
    "    def __str__(self):\n",
    "        return f'Point2D: ({self.x}, {self.y})'\n",
    "\n",
    "    def __eq__(self, other):\n",
    "        if not isinstance(other, Point2D):\n",
    "            return NotImplemented\n",
    "        return self.x == other.x and self.y == other.y\n",
    "    \n",
    "    def __hash__(self):\n",
    "        return hash((self.x, self.y))\n"
   ]
  },
  {
   "cell_type": "code",
   "execution_count": 26,
   "metadata": {},
   "outputs": [],
   "source": [
    "import collections\n",
    "\n",
    "class Point2DSequence:\n",
    "\n",
    "    def __init__(self, min_length = None, max_length = None):\n",
    "        self.min_length = min_length\n",
    "        self.max_length = max_length\n",
    "\n",
    "    def __set_name__(self, cls, name):\n",
    "        self.name = name\n",
    "\n",
    "    def __set__(self, instance, value):\n",
    "        if not isinstance(value, collections.abc.Sequence):\n",
    "            raise TypeError(f'{self.name} must be a sequence')\n",
    "        if self.min_length is not None and len(value) < self.min_length:\n",
    "            raise ValueError(f'{self.name} must have at least {self.min_length} elements')\n",
    "        if self.max_length is not None and len(value) > self.max_length:\n",
    "            raise ValueError(f'{self.name} must have at most {self.max_length} elements')\n",
    "        \n",
    "        for index, item in enumerate(value):\n",
    "            if not isinstance(item, Point2D):\n",
    "                raise TypeError(f'Item at index {index} of {self.name} must be a Point2D instance')\n",
    "        \n",
    "        instance.__dict__[self.name] = list(value)\n",
    "\n",
    "    def __get__(self, instance, owner_class):\n",
    "        if instance is None:\n",
    "            return self\n",
    "        \n",
    "        if self.name not in instance.__dict__:\n",
    "            instance.__dict__[self.name] = []\n",
    "        return instance.__dict__.get(self.name)\n"
   ]
  },
  {
   "cell_type": "code",
   "execution_count": 50,
   "metadata": {},
   "outputs": [],
   "source": [
    "class Polygon:\n",
    "    vertices = Point2DSequence(min_length=3)\n",
    "\n",
    "    def __init__(self, *vertices):\n",
    "        self.vertices = vertices\n",
    "    \n",
    "    def append(self, pt):\n",
    "        if not isinstance(pt, Point2D):\n",
    "            raise TypeError('Only Point2D instances can be appended')\n",
    "        max_length = type(self).vertices.max_length\n",
    "        if max_length is not None and len(self.vertices) >= max_length:\n",
    "            raise ValueError(f'Cannot add more than {max_length} vertices')\n",
    "        self.vertices.append(pt)\n",
    "    \n",
    "    def __len__(self):\n",
    "        return len(self.vertices)\n",
    "    \n",
    "    def __getitem__(self, index):\n",
    "        return self.vertices[index]\n",
    "    \n",
    "    def __iadd__(self, pt):\n",
    "        self.append(pt)\n",
    "        return self\n",
    "    \n",
    "    def __contains__(self, pt):\n",
    "        return pt in self.vertices\n"
   ]
  },
  {
   "cell_type": "code",
   "execution_count": 51,
   "metadata": {},
   "outputs": [],
   "source": [
    "class Triangle(Polygon):\n",
    "    vertices = Point2DSequence(min_length=3, max_length=3)\n",
    "\n",
    "class Rectangle(Polygon):\n",
    "    vertices = Point2DSequence(min_length= 4, max_length=4)\n",
    "    "
   ]
  },
  {
   "cell_type": "code",
   "execution_count": 49,
   "metadata": {},
   "outputs": [
    {
     "name": "stdout",
     "output_type": "stream",
     "text": [
      "Error: vertices must have at most 3 elements\n"
     ]
    }
   ],
   "source": [
    "try:\n",
    "    p = Triangle(Point2D(0, 0), Point2D(50, 50), Point2D(50, 50), Point2D(100, 100))\n",
    "except Exception as e:\n",
    "    print(f\"Error: {e}\")"
   ]
  },
  {
   "cell_type": "code",
   "execution_count": 55,
   "metadata": {},
   "outputs": [
    {
     "data": {
      "text/plain": [
       "[Point2D(x=0, y=0), Point2D(x=50, y=50), Point2D(x=100, y=100)]"
      ]
     },
     "execution_count": 55,
     "metadata": {},
     "output_type": "execute_result"
    }
   ],
   "source": [
    "p = Polygon(Point2D(0, 0), Point2D(50, 50), Point2D(100, 100))\n",
    "list(p)\n",
    "\n"
   ]
  },
  {
   "cell_type": "code",
   "execution_count": null,
   "metadata": {},
   "outputs": [
    {
     "data": {
      "text/plain": [
       "[Point2D(x=0, y=0),\n",
       " Point2D(x=50, y=50),\n",
       " Point2D(x=100, y=100),\n",
       " Point2D(x=100, y=100)]"
      ]
     },
     "execution_count": 56,
     "metadata": {},
     "output_type": "execute_result"
    }
   ],
   "source": [
    "p+= Point2D(100, 100) #iadd\n",
    "list(p)"
   ]
  },
  {
   "cell_type": "code",
   "execution_count": null,
   "metadata": {},
   "outputs": [
    {
     "data": {
      "text/plain": [
       "True"
      ]
     },
     "execution_count": 58,
     "metadata": {},
     "output_type": "execute_result"
    }
   ],
   "source": [
    "Point2D(x=0, y=0) in p #contains\n"
   ]
  }
 ],
 "metadata": {
  "kernelspec": {
   "display_name": "base",
   "language": "python",
   "name": "python3"
  },
  "language_info": {
   "codemirror_mode": {
    "name": "ipython",
    "version": 3
   },
   "file_extension": ".py",
   "mimetype": "text/x-python",
   "name": "python",
   "nbconvert_exporter": "python",
   "pygments_lexer": "ipython3",
   "version": "3.11.7"
  }
 },
 "nbformat": 4,
 "nbformat_minor": 2
}
